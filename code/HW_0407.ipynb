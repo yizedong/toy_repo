{
 "cells": [
  {
   "cell_type": "markdown",
   "metadata": {},
   "source": [
    "# Import packages"
   ]
  },
  {
   "cell_type": "code",
   "execution_count": 28,
   "metadata": {},
   "outputs": [],
   "source": [
    "import random\n",
    "from matplotlib import pyplot as plt\n",
    "import numpy as np\n",
    "%matplotlib inline"
   ]
  },
  {
   "cell_type": "markdown",
   "metadata": {},
   "source": [
    "# Version 1: without use of functions and classes"
   ]
  },
  {
   "cell_type": "markdown",
   "metadata": {},
   "source": [
    "### define variables"
   ]
  },
  {
   "cell_type": "code",
   "execution_count": 91,
   "metadata": {},
   "outputs": [],
   "source": [
    "length = 20\n",
    "time = 20\n",
    "rule_number = 38\n",
    "state = 3 #This indicates this is a n-state system. You can change this to any number to get a n-state syatem."
   ]
  },
  {
   "cell_type": "markdown",
   "metadata": {},
   "source": [
    "### define an initial condition"
   ]
  },
  {
   "cell_type": "code",
   "execution_count": 92,
   "metadata": {},
   "outputs": [
    {
     "name": "stdout",
     "output_type": "stream",
     "text": [
      "[0, 2, 0, 2, 1, 1, 2, 1, 1, 1, 0, 0, 1, 0, 1, 0, 0, 0, 0, 1]\n"
     ]
    }
   ],
   "source": [
    "initial_condition = []\n",
    "for i in range(length):\n",
    "    initial_condition.append(random.randint(0,state-1))\n",
    "print(initial_condition)"
   ]
  },
  {
   "cell_type": "markdown",
   "metadata": {},
   "source": [
    "### define neighborhood values"
   ]
  },
  {
   "cell_type": "code",
   "execution_count": 93,
   "metadata": {},
   "outputs": [],
   "source": [
    "count = 0\n",
    "neighborhoods = []\n",
    "for i in range(state):\n",
    "    for j in range(state):\n",
    "        neighborhoods.append((i,j))\n",
    "        count+=1"
   ]
  },
  {
   "cell_type": "code",
   "execution_count": 95,
   "metadata": {},
   "outputs": [
    {
     "data": {
      "text/plain": [
       "[(0, 0), (0, 1), (0, 2), (1, 0), (1, 1), (1, 2), (2, 0), (2, 1), (2, 2)]"
      ]
     },
     "execution_count": 95,
     "metadata": {},
     "output_type": "execute_result"
    }
   ],
   "source": [
    "neighborhoods"
   ]
  },
  {
   "cell_type": "markdown",
   "metadata": {},
   "source": [
    "### convert the rule number to n-state number"
   ]
  },
  {
   "cell_type": "code",
   "execution_count": 94,
   "metadata": {},
   "outputs": [
    {
     "name": "stdout",
     "output_type": "stream",
     "text": [
      "1102\n",
      "2011\n"
     ]
    }
   ],
   "source": [
    "print(np.base_repr(rule_number, base=state))\n",
    "print(np.base_repr(rule_number, base=state)[::-1])"
   ]
  },
  {
   "cell_type": "markdown",
   "metadata": {},
   "source": [
    "### build the lookup table dictionary"
   ]
  },
  {
   "cell_type": "code",
   "execution_count": 96,
   "metadata": {},
   "outputs": [
    {
     "name": "stdout",
     "output_type": "stream",
     "text": [
      "(0, 0) --> 2\n",
      "(0, 1) --> 0\n",
      "(0, 2) --> 1\n",
      "(1, 0) --> 1\n",
      "(1, 1) --> 0\n",
      "(1, 2) --> 0\n",
      "(2, 0) --> 0\n",
      "(2, 1) --> 0\n",
      "(2, 2) --> 0\n"
     ]
    }
   ],
   "source": [
    "in_ternary = np.base_repr(rule_number, base=state)[::-1]\n",
    "lookup_table ={}\n",
    "for i in range(state**2):\n",
    "    key = neighborhoods[i]\n",
    "    try:\n",
    "        val = in_ternary[i]\n",
    "    except IndexError:\n",
    "        val = '0'\n",
    "    lookup_table.update({key: val})\n",
    "for key, val in lookup_table.items():\n",
    "    print(key, '-->', val)"
   ]
  },
  {
   "cell_type": "markdown",
   "metadata": {},
   "source": [
    "### calculate the following rows by using the lookup table"
   ]
  },
  {
   "cell_type": "code",
   "execution_count": 97,
   "metadata": {},
   "outputs": [],
   "source": [
    "spacetime_field = [initial_condition]\n",
    "current_configuration = initial_condition.copy()\n",
    "for t in range(time):\n",
    "    new_configuration = []\n",
    "    for i in range(len(current_configuration)):\n",
    "        \n",
    "        neighborhood = (current_configuration[(i-1)], \n",
    "                        current_configuration[i])\n",
    "        \n",
    "        new_configuration.append(int(lookup_table[neighborhood]))\n",
    "    # update the current configuration    \n",
    "    current_configuration = new_configuration # here we don't want to keep making new copies, so use '='\n",
    "    # add the new configuration to the spacetime field\n",
    "    spacetime_field.append(new_configuration)"
   ]
  },
  {
   "cell_type": "code",
   "execution_count": 98,
   "metadata": {},
   "outputs": [
    {
     "data": {
      "text/plain": [
       "[[0, 2, 0, 2, 1, 1, 2, 1, 1, 1, 0, 0, 1, 0, 1, 0, 0, 0, 0, 1],\n",
       " [1, 1, 0, 1, 0, 0, 0, 0, 0, 0, 1, 2, 0, 1, 0, 1, 2, 2, 2, 0],\n",
       " [0, 0, 1, 0, 1, 2, 2, 2, 2, 2, 0, 0, 0, 0, 1, 0, 0, 0, 0, 0],\n",
       " [2, 2, 0, 1, 0, 0, 0, 0, 0, 0, 0, 2, 2, 2, 0, 1, 2, 2, 2, 2],\n",
       " [0, 0, 0, 0, 1, 2, 2, 2, 2, 2, 2, 1, 0, 0, 0, 0, 0, 0, 0, 0],\n",
       " [2, 2, 2, 2, 0, 0, 0, 0, 0, 0, 0, 0, 1, 2, 2, 2, 2, 2, 2, 2],\n",
       " [0, 0, 0, 0, 0, 2, 2, 2, 2, 2, 2, 2, 0, 0, 0, 0, 0, 0, 0, 0],\n",
       " [2, 2, 2, 2, 2, 1, 0, 0, 0, 0, 0, 0, 0, 2, 2, 2, 2, 2, 2, 2],\n",
       " [0, 0, 0, 0, 0, 0, 1, 2, 2, 2, 2, 2, 2, 1, 0, 0, 0, 0, 0, 0],\n",
       " [2, 2, 2, 2, 2, 2, 0, 0, 0, 0, 0, 0, 0, 0, 1, 2, 2, 2, 2, 2],\n",
       " [0, 0, 0, 0, 0, 0, 0, 2, 2, 2, 2, 2, 2, 2, 0, 0, 0, 0, 0, 0],\n",
       " [2, 2, 2, 2, 2, 2, 2, 1, 0, 0, 0, 0, 0, 0, 0, 2, 2, 2, 2, 2],\n",
       " [0, 0, 0, 0, 0, 0, 0, 0, 1, 2, 2, 2, 2, 2, 2, 1, 0, 0, 0, 0],\n",
       " [2, 2, 2, 2, 2, 2, 2, 2, 0, 0, 0, 0, 0, 0, 0, 0, 1, 2, 2, 2],\n",
       " [0, 0, 0, 0, 0, 0, 0, 0, 0, 2, 2, 2, 2, 2, 2, 2, 0, 0, 0, 0],\n",
       " [2, 2, 2, 2, 2, 2, 2, 2, 2, 1, 0, 0, 0, 0, 0, 0, 0, 2, 2, 2],\n",
       " [0, 0, 0, 0, 0, 0, 0, 0, 0, 0, 1, 2, 2, 2, 2, 2, 2, 1, 0, 0],\n",
       " [2, 2, 2, 2, 2, 2, 2, 2, 2, 2, 0, 0, 0, 0, 0, 0, 0, 0, 1, 2],\n",
       " [0, 0, 0, 0, 0, 0, 0, 0, 0, 0, 0, 2, 2, 2, 2, 2, 2, 2, 0, 0],\n",
       " [2, 2, 2, 2, 2, 2, 2, 2, 2, 2, 2, 1, 0, 0, 0, 0, 0, 0, 0, 2],\n",
       " [0, 0, 0, 0, 0, 0, 0, 0, 0, 0, 0, 0, 1, 2, 2, 2, 2, 2, 2, 1]]"
      ]
     },
     "execution_count": 98,
     "metadata": {},
     "output_type": "execute_result"
    }
   ],
   "source": [
    "spacetime_field"
   ]
  },
  {
   "cell_type": "markdown",
   "metadata": {},
   "source": [
    "### make a plot"
   ]
  },
  {
   "cell_type": "code",
   "execution_count": 99,
   "metadata": {},
   "outputs": [
    {
     "data": {
      "image/png": "[encoded data removed]",
      "text/plain": [
       "<Figure size 720x720 with 1 Axes>"
      ]
     },
     "metadata": {
      "needs_background": "light"
     },
     "output_type": "display_data"
    }
   ],
   "source": [
    "plt.figure(figsize=(10,10))\n",
    "plt.imshow(spacetime_field, cmap=plt.cm.ocean, interpolation='nearest')\n",
    "plt.show()"
   ]
  },
  {
   "cell_type": "markdown",
   "metadata": {},
   "source": [
    "# Version 2: with use of functions and at least one class"
   ]
  },
  {
   "cell_type": "code",
   "execution_count": 141,
   "metadata": {},
   "outputs": [],
   "source": [
    "def neighbor_for_nstate(state):\n",
    "    count = 0\n",
    "    neighborhoods = []\n",
    "    for i in range(state):\n",
    "        for j in range(state):\n",
    "            neighborhoods.append((i,j))\n",
    "            count+=1\n",
    "    return neighborhoods\n",
    "    \n",
    "def lookuptable(state, rule_number, ifprint=False):\n",
    "    in_ternary = np.base_repr(rule_number, base=state)[::-1]\n",
    "    lookup_table ={}\n",
    "    neighborhoods = neighbor_for_nstate(state)\n",
    "    for i in range(state**2):\n",
    "        key = neighborhoods[i]\n",
    "        try:\n",
    "            val = in_ternary[i]\n",
    "        except IndexError:\n",
    "            val = '0'\n",
    "        lookup_table.update({key: val})\n",
    "    if ifprint == True:\n",
    "        for key, val in lookup_table.items():\n",
    "            print(key, '-->', val)\n",
    "    return lookup_table\n",
    "class ECA(object):\n",
    "    '''\n",
    "    Elementary cellular automata simulator.\n",
    "    '''\n",
    "    def __init__(self, state, rule_number, initial_condition):\n",
    "        for i in initial_condition:\n",
    "            if i not in np.arange(state):\n",
    "                raise ValueError(\"incorrect initial condition\")\n",
    "        self.lookup_table = lookuptable(state, rule_number)\n",
    "        self.initial = initial_condition\n",
    "        self.spacetime = [initial_condition]\n",
    "        self.current_configuration = initial_condition.copy()\n",
    "        self.state = state\n",
    "        \n",
    "        \n",
    "    def evolve (self, time_steps, ifplot):\n",
    "        for t in range(time_steps):\n",
    "            new_configuration = []\n",
    "            for i in range(len(self.initial)):\n",
    "                \n",
    "                neighborhood = (self.current_configuration[(i-1)], \n",
    "                                self.current_configuration[i])\n",
    "                \n",
    "                new_configuration.append(int(self.lookup_table[neighborhood]))\n",
    "            # update the current configuration    \n",
    "            self.current_configuration = new_configuration # here we don't want to keep making new copies, so use '='\n",
    "            # add the new configuration to the spacetime field\n",
    "            self.spacetime.append(new_configuration)\n",
    "        if ifplot == True:\n",
    "            plt.figure(figsize=(10,10))\n",
    "            plt.imshow(self.spacetime, cmap=plt.cm.ocean, interpolation='nearest')\n",
    "            plt.show()"
   ]
  },
  {
   "cell_type": "markdown",
   "metadata": {},
   "source": [
    "# define a random initial contion"
   ]
  },
  {
   "cell_type": "code",
   "execution_count": 142,
   "metadata": {},
   "outputs": [
    {
     "name": "stdout",
     "output_type": "stream",
     "text": [
      "[2, 2, 0, 1, 1, 1, 1, 0, 1, 1, 1, 2, 1, 2, 0, 2, 1, 2, 1, 0]\n"
     ]
    }
   ],
   "source": [
    "length = 20\n",
    "time = 20\n",
    "rule_number = 38\n",
    "state = 3\n",
    "initial_condition = []\n",
    "for i in range(length):\n",
    "    initial_condition.append(random.randint(0,state-1))\n",
    "print(initial_condition)"
   ]
  },
  {
   "cell_type": "markdown",
   "metadata": {},
   "source": [
    "# rule number: 38     state number: 3"
   ]
  },
  {
   "cell_type": "code",
   "execution_count": 143,
   "metadata": {},
   "outputs": [],
   "source": [
    "xx = ECA(state = 3, rule_number=38, initial_condition = initial_condition)"
   ]
  },
  {
   "cell_type": "markdown",
   "metadata": {},
   "source": [
    "# Evolve 20 steps"
   ]
  },
  {
   "cell_type": "code",
   "execution_count": 144,
   "metadata": {},
   "outputs": [
    {
     "data": {
      "image/png": "[encoded data removed]",
      "text/plain": [
       "<Figure size 720x720 with 1 Axes>"
      ]
     },
     "metadata": {
      "needs_background": "light"
     },
     "output_type": "display_data"
    }
   ],
   "source": [
    "xx.evolve(20, ifplot = True)"
   ]
  },
  {
   "cell_type": "code",
   "execution_count": null,
   "metadata": {},
   "outputs": [],
   "source": []
  },
  {
   "cell_type": "code",
   "execution_count": null,
   "metadata": {},
   "outputs": [],
   "source": []
  }
 ],
 "metadata": {
  "kernelspec": {
   "display_name": "Python 3",
   "language": "python",
   "name": "python3"
  },
  "language_info": {
   "codemirror_mode": {
    "name": "ipython",
    "version": 3
   },
   "file_extension": ".py",
   "mimetype": "text/x-python",
   "name": "python",
   "nbconvert_exporter": "python",
   "pygments_lexer": "ipython3",
   "version": "3.7.1"
  }
 },
 "nbformat": 4,
 "nbformat_minor": 2
}
